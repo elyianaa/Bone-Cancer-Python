{
 "cells": [
  {
   "attachments": {},
   "cell_type": "markdown",
   "metadata": {},
   "source": [
    "##### question 1"
   ]
  },
  {
   "cell_type": "code",
   "execution_count": 4,
   "metadata": {},
   "outputs": [
    {
     "name": "stdout",
     "output_type": "stream",
     "text": [
      "-0.9753614395431032\n",
      "-0.04757860680698048\n",
      "1.0229400463500842\n"
     ]
    }
   ],
   "source": [
    "import statistics\n",
    "\n",
    "data = [36, 49, 64]\n",
    "mean = statistics.mean(data)\n",
    "stdev = statistics.stdev(data)\n",
    "\n",
    "for i in data:\n",
    "    zscore = (i-mean)/stdev\n",
    "    print(zscore)"
   ]
  },
  {
   "attachments": {},
   "cell_type": "markdown",
   "metadata": {},
   "source": [
    "##### question 2"
   ]
  },
  {
   "cell_type": "code",
   "execution_count": 30,
   "metadata": {},
   "outputs": [
    {
     "data": {
      "text/plain": [
       "array([[-0.54492137, -0.58204529, -0.60355943],\n",
       "       [-0.71415267, -0.54486131, -0.43944523],\n",
       "       [ 0.5874998 ,  0.57629797,  0.56808858]])"
      ]
     },
     "execution_count": 30,
     "metadata": {},
     "output_type": "execute_result"
    }
   ],
   "source": [
    "from sklearn import preprocessing\n",
    "import numpy as np\n",
    "\n",
    "data = np.array([[ 0, 1,  4],\n",
    "                    [ 9,  16,  25],\n",
    "                    [ 36,  49, 64]])\n",
    "\n",
    "scaler=preprocessing.StandardScaler().fit(data)\n",
    "\n",
    "data_scaled= scaler.transform(data)\n",
    "normalized_data=preprocessing.normalize(data_scaled, norm='l2')\n",
    "normalized_data"
   ]
  },
  {
   "attachments": {},
   "cell_type": "markdown",
   "metadata": {},
   "source": [
    "##### question 3"
   ]
  },
  {
   "cell_type": "code",
   "execution_count": 24,
   "metadata": {},
   "outputs": [
    {
     "name": "stdout",
     "output_type": "stream",
     "text": [
      "Your DNA sequence is GGGTTTGGGTTAAGTATGAG\n",
      "CCCAAACCCAAUUCAUACUC\n"
     ]
    }
   ],
   "source": [
    "a = input(\"Enter your DNA sequence: \")\n",
    "a = a.upper()\n",
    "print(\"Your DNA sequence is\", a)\n",
    "# RNA = a.translate(str.maketrans({'G': 'C', 'C': 'G'}))\n",
    "# RNA = RNA.translate(str.maketrans({'A': 'U', 'T': 'A'}))\n",
    "RNA = a.translate(str.maketrans({'G': 'C', 'C': 'G', 'A': 'U', 'T': 'A'}))\n",
    "print(RNA)"
   ]
  },
  {
   "cell_type": "code",
   "execution_count": 22,
   "metadata": {},
   "outputs": [
    {
     "name": "stdout",
     "output_type": "stream",
     "text": [
      "{71: 'C', 67: 'G', 65: 'U', 84: 'A'}\n"
     ]
    }
   ],
   "source": [
    "import string\n",
    "\n",
    "dna = 'GGGTTTGGGTTAAGTATGAG'\n",
    "rna = {'G': 'C', 'C': 'G', 'A': 'U', 'T': 'A'}\n",
    "\n",
    "rna = dna.maketrans(rna)\n",
    "# RNA = string.maketrans(dna)\n",
    "print(dna.maketrans(rna))"
   ]
  },
  {
   "attachments": {},
   "cell_type": "markdown",
   "metadata": {},
   "source": [
    "##### question 4"
   ]
  },
  {
   "cell_type": "code",
   "execution_count": 27,
   "metadata": {},
   "outputs": [],
   "source": [
    "import numpy as np\n",
    "import pandas as pd\n",
    "import sklearn\n",
    "import tensorflow\n",
    "import matplotlib as map"
   ]
  },
  {
   "cell_type": "code",
   "execution_count": 28,
   "metadata": {},
   "outputs": [],
   "source": [
    "# load dataset\n",
    "from sklearn.datasets import load_iris\n",
    "\n",
    "iris = load_iris()\n",
    "X = iris.data\n",
    "y = pd.get_dummies(iris.target, prefix='iris category')"
   ]
  },
  {
   "cell_type": "code",
   "execution_count": 29,
   "metadata": {},
   "outputs": [
    {
     "name": "stdout",
     "output_type": "stream",
     "text": [
      "shape of x_train (120, 4)\n",
      "shape of x_test (30, 4)\n"
     ]
    }
   ],
   "source": [
    "# data splitting\n",
    "from sklearn.model_selection import train_test_split\n",
    "x_train, x_test, y_train, y_test = train_test_split(iris.data, iris.target, test_size=0.2, random_state=100)\n",
    "\n",
    "print(\"shape of x_train\", x_train.shape)\n",
    "print(\"shape of x_test\", x_test.shape)"
   ]
  },
  {
   "cell_type": "code",
   "execution_count": 34,
   "metadata": {},
   "outputs": [],
   "source": [
    "from keras.models import Sequential\n",
    "from keras.layers import Dense\n",
    "\n",
    "import tensorflow as tf\n",
    "model = tf.keras.models.Sequential([\n",
    "  tf.keras.layers.Dense(50, activation='relu'),\n",
    "  tf.keras.layers.Dense(25, activation='relu'),\n",
    "  tf.keras.layers.Dense(3)\n",
    "])\n",
    "\n",
    "network = Sequential()\n",
    "network.add(Dense(50, activation=\"relu\"))\n",
    "network.add(Dense(25, activation=\"relu\"))\n",
    "network.add(Dense(3))"
   ]
  },
  {
   "cell_type": "code",
   "execution_count": 35,
   "metadata": {},
   "outputs": [],
   "source": [
    "from keras.utils import to_categorical\n",
    "\n",
    "train_labels = to_categorical(y_train)\n",
    "test_labels = to_categorical(y_test)\n",
    "network.compile(optimizer=\"Adam\", loss=\"categorical_crossentropy\", metrics=[\"accuracy\"])"
   ]
  },
  {
   "cell_type": "code",
   "execution_count": 36,
   "metadata": {},
   "outputs": [
    {
     "name": "stdout",
     "output_type": "stream",
     "text": [
      "Epoch 1/150\n",
      "3/3 [==============================] - 1s 6ms/step - loss: 5.8563 - accuracy: 0.3667\n",
      "Epoch 2/150\n",
      "3/3 [==============================] - 0s 3ms/step - loss: 5.6679 - accuracy: 0.3667\n",
      "Epoch 3/150\n",
      "3/3 [==============================] - 0s 3ms/step - loss: 5.5636 - accuracy: 0.3667\n",
      "Epoch 4/150\n",
      "3/3 [==============================] - 0s 4ms/step - loss: 5.3275 - accuracy: 0.3667\n",
      "Epoch 5/150\n",
      "3/3 [==============================] - 0s 3ms/step - loss: 2.1264 - accuracy: 0.3667\n",
      "Epoch 6/150\n",
      "3/3 [==============================] - 0s 4ms/step - loss: 0.1429 - accuracy: 0.3667\n",
      "Epoch 7/150\n",
      "3/3 [==============================] - 0s 4ms/step - loss: 1.1921e-07 - accuracy: 0.1417\n",
      "Epoch 8/150\n",
      "3/3 [==============================] - 0s 5ms/step - loss: 1.2089 - accuracy: 0.2833\n",
      "Epoch 9/150\n",
      "3/3 [==============================] - 0s 4ms/step - loss: 7.1188 - accuracy: 0.3000\n",
      "Epoch 10/150\n",
      "3/3 [==============================] - 0s 4ms/step - loss: 10.6111 - accuracy: 0.3083\n",
      "Epoch 11/150\n",
      "3/3 [==============================] - 0s 4ms/step - loss: 10.8797 - accuracy: 0.3083\n",
      "Epoch 12/150\n",
      "3/3 [==============================] - 0s 3ms/step - loss: 10.8797 - accuracy: 0.3083\n",
      "Epoch 13/150\n",
      "3/3 [==============================] - 0s 4ms/step - loss: 10.8797 - accuracy: 0.3083\n",
      "Epoch 14/150\n",
      "3/3 [==============================] - 0s 3ms/step - loss: 10.8797 - accuracy: 0.3083\n",
      "Epoch 15/150\n",
      "3/3 [==============================] - 0s 10ms/step - loss: 10.8797 - accuracy: 0.3083\n",
      "Epoch 16/150\n",
      "3/3 [==============================] - 0s 3ms/step - loss: 10.8797 - accuracy: 0.3083\n",
      "Epoch 17/150\n",
      "3/3 [==============================] - 0s 4ms/step - loss: 10.8797 - accuracy: 0.3083\n",
      "Epoch 18/150\n",
      "3/3 [==============================] - 0s 3ms/step - loss: 10.8797 - accuracy: 0.3083\n",
      "Epoch 19/150\n",
      "3/3 [==============================] - 0s 3ms/step - loss: 10.8797 - accuracy: 0.3083\n",
      "Epoch 20/150\n",
      "3/3 [==============================] - 0s 3ms/step - loss: 10.8797 - accuracy: 0.3083\n",
      "Epoch 21/150\n",
      "3/3 [==============================] - 0s 4ms/step - loss: 10.8797 - accuracy: 0.3083\n",
      "Epoch 22/150\n",
      "3/3 [==============================] - 0s 7ms/step - loss: 10.8797 - accuracy: 0.3083\n",
      "Epoch 23/150\n",
      "3/3 [==============================] - 0s 3ms/step - loss: 10.8797 - accuracy: 0.3083\n",
      "Epoch 24/150\n",
      "3/3 [==============================] - 0s 3ms/step - loss: 10.8797 - accuracy: 0.3083\n",
      "Epoch 25/150\n",
      "3/3 [==============================] - 0s 3ms/step - loss: 10.8797 - accuracy: 0.3083\n",
      "Epoch 26/150\n",
      "3/3 [==============================] - 0s 3ms/step - loss: 10.8797 - accuracy: 0.3083\n",
      "Epoch 27/150\n",
      "3/3 [==============================] - 0s 3ms/step - loss: 10.8797 - accuracy: 0.3083\n",
      "Epoch 28/150\n",
      "3/3 [==============================] - 0s 5ms/step - loss: 10.8797 - accuracy: 0.3083\n",
      "Epoch 29/150\n",
      "3/3 [==============================] - 0s 8ms/step - loss: 10.8797 - accuracy: 0.3083\n",
      "Epoch 30/150\n",
      "3/3 [==============================] - 0s 4ms/step - loss: 10.8797 - accuracy: 0.3083\n",
      "Epoch 31/150\n",
      "3/3 [==============================] - 0s 4ms/step - loss: 10.8797 - accuracy: 0.3083\n",
      "Epoch 32/150\n",
      "3/3 [==============================] - 0s 5ms/step - loss: 10.8797 - accuracy: 0.3083\n",
      "Epoch 33/150\n",
      "3/3 [==============================] - 0s 3ms/step - loss: 10.8797 - accuracy: 0.3083\n",
      "Epoch 34/150\n",
      "3/3 [==============================] - 0s 3ms/step - loss: 10.8797 - accuracy: 0.3083\n",
      "Epoch 35/150\n",
      "3/3 [==============================] - 0s 3ms/step - loss: 10.8797 - accuracy: 0.3083\n",
      "Epoch 36/150\n",
      "3/3 [==============================] - 0s 4ms/step - loss: 10.8797 - accuracy: 0.3083\n",
      "Epoch 37/150\n",
      "3/3 [==============================] - 0s 4ms/step - loss: 10.8797 - accuracy: 0.3083\n",
      "Epoch 38/150\n",
      "3/3 [==============================] - 0s 4ms/step - loss: 10.8797 - accuracy: 0.3083\n",
      "Epoch 39/150\n",
      "3/3 [==============================] - 0s 3ms/step - loss: 10.8797 - accuracy: 0.3083\n",
      "Epoch 40/150\n",
      "3/3 [==============================] - 0s 23ms/step - loss: 10.8797 - accuracy: 0.3083\n",
      "Epoch 41/150\n",
      "3/3 [==============================] - 0s 3ms/step - loss: 10.8797 - accuracy: 0.3083\n",
      "Epoch 42/150\n",
      "3/3 [==============================] - 0s 3ms/step - loss: 10.8797 - accuracy: 0.3083\n",
      "Epoch 43/150\n",
      "3/3 [==============================] - 0s 3ms/step - loss: 10.8797 - accuracy: 0.3083\n",
      "Epoch 44/150\n",
      "3/3 [==============================] - 0s 3ms/step - loss: 10.8797 - accuracy: 0.3083\n",
      "Epoch 45/150\n",
      "3/3 [==============================] - 0s 3ms/step - loss: 10.8797 - accuracy: 0.3083\n",
      "Epoch 46/150\n",
      "3/3 [==============================] - 0s 3ms/step - loss: 10.8797 - accuracy: 0.3083\n",
      "Epoch 47/150\n",
      "3/3 [==============================] - 0s 10ms/step - loss: 10.8797 - accuracy: 0.3083\n",
      "Epoch 48/150\n",
      "3/3 [==============================] - 0s 5ms/step - loss: 10.8797 - accuracy: 0.3083\n",
      "Epoch 49/150\n",
      "3/3 [==============================] - 0s 8ms/step - loss: 10.8797 - accuracy: 0.3083\n",
      "Epoch 50/150\n",
      "3/3 [==============================] - 0s 3ms/step - loss: 10.8797 - accuracy: 0.3083\n",
      "Epoch 51/150\n",
      "3/3 [==============================] - 0s 4ms/step - loss: 10.8797 - accuracy: 0.3083\n",
      "Epoch 52/150\n",
      "3/3 [==============================] - 0s 4ms/step - loss: 10.8797 - accuracy: 0.3083\n",
      "Epoch 53/150\n",
      "3/3 [==============================] - 0s 3ms/step - loss: 10.8797 - accuracy: 0.3083\n",
      "Epoch 54/150\n",
      "3/3 [==============================] - 0s 3ms/step - loss: 10.8797 - accuracy: 0.3083\n",
      "Epoch 55/150\n",
      "3/3 [==============================] - 0s 3ms/step - loss: 10.8797 - accuracy: 0.3083\n",
      "Epoch 56/150\n",
      "3/3 [==============================] - 0s 3ms/step - loss: 10.8797 - accuracy: 0.3083\n",
      "Epoch 57/150\n",
      "3/3 [==============================] - 0s 3ms/step - loss: 10.8797 - accuracy: 0.3083\n",
      "Epoch 58/150\n",
      "3/3 [==============================] - 0s 4ms/step - loss: 10.8797 - accuracy: 0.3083\n",
      "Epoch 59/150\n",
      "3/3 [==============================] - 0s 3ms/step - loss: 10.8797 - accuracy: 0.3083\n",
      "Epoch 60/150\n",
      "3/3 [==============================] - 0s 3ms/step - loss: 10.8797 - accuracy: 0.3083\n",
      "Epoch 61/150\n",
      "3/3 [==============================] - 0s 4ms/step - loss: 10.8797 - accuracy: 0.3083\n",
      "Epoch 62/150\n",
      "3/3 [==============================] - 0s 8ms/step - loss: 10.8797 - accuracy: 0.3083\n",
      "Epoch 63/150\n",
      "3/3 [==============================] - 0s 4ms/step - loss: 10.8797 - accuracy: 0.3083\n",
      "Epoch 64/150\n",
      "3/3 [==============================] - 0s 2ms/step - loss: 10.8797 - accuracy: 0.3083\n",
      "Epoch 65/150\n",
      "3/3 [==============================] - 0s 3ms/step - loss: 10.8797 - accuracy: 0.3083\n",
      "Epoch 66/150\n",
      "3/3 [==============================] - 0s 3ms/step - loss: 10.8797 - accuracy: 0.3083\n",
      "Epoch 67/150\n",
      "3/3 [==============================] - 0s 2ms/step - loss: 10.8797 - accuracy: 0.3083\n",
      "Epoch 68/150\n",
      "3/3 [==============================] - 0s 3ms/step - loss: 10.8797 - accuracy: 0.3083\n",
      "Epoch 69/150\n",
      "3/3 [==============================] - 0s 5ms/step - loss: 10.8797 - accuracy: 0.3083\n",
      "Epoch 70/150\n",
      "3/3 [==============================] - 0s 4ms/step - loss: 10.8797 - accuracy: 0.3083\n",
      "Epoch 71/150\n",
      "3/3 [==============================] - 0s 4ms/step - loss: 10.8797 - accuracy: 0.3083\n",
      "Epoch 72/150\n",
      "3/3 [==============================] - 0s 3ms/step - loss: 10.8797 - accuracy: 0.3083\n",
      "Epoch 73/150\n",
      "3/3 [==============================] - 0s 3ms/step - loss: 10.8797 - accuracy: 0.3083\n",
      "Epoch 74/150\n",
      "3/3 [==============================] - 0s 3ms/step - loss: 10.8797 - accuracy: 0.3083\n",
      "Epoch 75/150\n",
      "3/3 [==============================] - 0s 4ms/step - loss: 10.8797 - accuracy: 0.3083\n",
      "Epoch 76/150\n",
      "3/3 [==============================] - 0s 4ms/step - loss: 10.8797 - accuracy: 0.3083\n",
      "Epoch 77/150\n",
      "3/3 [==============================] - 0s 3ms/step - loss: 10.8797 - accuracy: 0.3083\n",
      "Epoch 78/150\n",
      "3/3 [==============================] - 0s 3ms/step - loss: 10.8797 - accuracy: 0.3083\n",
      "Epoch 79/150\n",
      "3/3 [==============================] - 0s 4ms/step - loss: 10.8797 - accuracy: 0.3083\n",
      "Epoch 80/150\n",
      "3/3 [==============================] - 0s 6ms/step - loss: 10.8797 - accuracy: 0.3083\n",
      "Epoch 81/150\n",
      "3/3 [==============================] - 0s 3ms/step - loss: 10.8797 - accuracy: 0.3083\n",
      "Epoch 82/150\n",
      "3/3 [==============================] - 0s 3ms/step - loss: 10.8797 - accuracy: 0.3083\n",
      "Epoch 83/150\n",
      "3/3 [==============================] - 0s 4ms/step - loss: 10.8797 - accuracy: 0.3083\n",
      "Epoch 84/150\n",
      "3/3 [==============================] - 0s 3ms/step - loss: 10.8797 - accuracy: 0.3083\n",
      "Epoch 85/150\n",
      "3/3 [==============================] - 0s 3ms/step - loss: 10.8797 - accuracy: 0.3083\n",
      "Epoch 86/150\n",
      "3/3 [==============================] - 0s 3ms/step - loss: 10.8797 - accuracy: 0.3083\n",
      "Epoch 87/150\n",
      "3/3 [==============================] - 0s 3ms/step - loss: 10.8797 - accuracy: 0.3083\n",
      "Epoch 88/150\n",
      "3/3 [==============================] - 0s 4ms/step - loss: 10.8797 - accuracy: 0.3083\n",
      "Epoch 89/150\n",
      "3/3 [==============================] - 0s 3ms/step - loss: 10.8797 - accuracy: 0.3083\n",
      "Epoch 90/150\n",
      "3/3 [==============================] - 0s 3ms/step - loss: 10.8797 - accuracy: 0.3083\n",
      "Epoch 91/150\n",
      "3/3 [==============================] - 0s 4ms/step - loss: 10.8797 - accuracy: 0.3083\n",
      "Epoch 92/150\n",
      "3/3 [==============================] - 0s 3ms/step - loss: 10.8797 - accuracy: 0.3083\n",
      "Epoch 93/150\n",
      "3/3 [==============================] - 0s 2ms/step - loss: 10.8797 - accuracy: 0.3083\n",
      "Epoch 94/150\n",
      "3/3 [==============================] - 0s 4ms/step - loss: 10.8797 - accuracy: 0.3083\n",
      "Epoch 95/150\n",
      "3/3 [==============================] - 0s 3ms/step - loss: 10.8797 - accuracy: 0.3083\n",
      "Epoch 96/150\n",
      "3/3 [==============================] - 0s 3ms/step - loss: 10.8797 - accuracy: 0.3083\n",
      "Epoch 97/150\n",
      "3/3 [==============================] - 0s 4ms/step - loss: 10.8797 - accuracy: 0.3083\n",
      "Epoch 98/150\n",
      "3/3 [==============================] - 0s 5ms/step - loss: 10.8797 - accuracy: 0.3083\n",
      "Epoch 99/150\n",
      "3/3 [==============================] - 0s 3ms/step - loss: 10.8797 - accuracy: 0.3083\n",
      "Epoch 100/150\n",
      "3/3 [==============================] - 0s 3ms/step - loss: 10.8797 - accuracy: 0.3083\n",
      "Epoch 101/150\n",
      "3/3 [==============================] - 0s 3ms/step - loss: 10.8797 - accuracy: 0.3083\n",
      "Epoch 102/150\n",
      "3/3 [==============================] - 0s 5ms/step - loss: 10.8797 - accuracy: 0.3083\n",
      "Epoch 103/150\n",
      "3/3 [==============================] - 0s 3ms/step - loss: 10.8797 - accuracy: 0.3083\n",
      "Epoch 104/150\n",
      "3/3 [==============================] - 0s 4ms/step - loss: 10.8797 - accuracy: 0.3083\n",
      "Epoch 105/150\n",
      "3/3 [==============================] - 0s 3ms/step - loss: 10.8797 - accuracy: 0.3083\n",
      "Epoch 106/150\n",
      "3/3 [==============================] - 0s 3ms/step - loss: 10.8797 - accuracy: 0.3083\n",
      "Epoch 107/150\n",
      "3/3 [==============================] - 0s 3ms/step - loss: 10.8797 - accuracy: 0.3083\n",
      "Epoch 108/150\n",
      "3/3 [==============================] - 0s 3ms/step - loss: 10.8797 - accuracy: 0.3083\n",
      "Epoch 109/150\n",
      "3/3 [==============================] - 0s 6ms/step - loss: 10.8797 - accuracy: 0.3083\n",
      "Epoch 110/150\n",
      "3/3 [==============================] - 0s 3ms/step - loss: 10.8797 - accuracy: 0.3083\n",
      "Epoch 111/150\n",
      "3/3 [==============================] - 0s 3ms/step - loss: 10.8797 - accuracy: 0.3083\n",
      "Epoch 112/150\n",
      "3/3 [==============================] - 0s 3ms/step - loss: 10.8797 - accuracy: 0.3083\n",
      "Epoch 113/150\n",
      "3/3 [==============================] - 0s 3ms/step - loss: 10.8797 - accuracy: 0.3083\n",
      "Epoch 114/150\n",
      "3/3 [==============================] - 0s 3ms/step - loss: 10.8797 - accuracy: 0.3083\n",
      "Epoch 115/150\n",
      "3/3 [==============================] - 0s 3ms/step - loss: 10.8797 - accuracy: 0.3083\n",
      "Epoch 116/150\n",
      "3/3 [==============================] - 0s 3ms/step - loss: 10.8797 - accuracy: 0.3083\n",
      "Epoch 117/150\n",
      "3/3 [==============================] - 0s 4ms/step - loss: 10.8797 - accuracy: 0.3083\n",
      "Epoch 118/150\n",
      "3/3 [==============================] - 0s 4ms/step - loss: 10.8797 - accuracy: 0.3083\n",
      "Epoch 119/150\n",
      "3/3 [==============================] - 0s 4ms/step - loss: 10.8797 - accuracy: 0.3083\n",
      "Epoch 120/150\n",
      "3/3 [==============================] - 0s 5ms/step - loss: 10.8797 - accuracy: 0.3083\n",
      "Epoch 121/150\n",
      "3/3 [==============================] - 0s 3ms/step - loss: 10.8797 - accuracy: 0.3083\n",
      "Epoch 122/150\n",
      "3/3 [==============================] - 0s 2ms/step - loss: 10.8797 - accuracy: 0.3083\n",
      "Epoch 123/150\n",
      "3/3 [==============================] - 0s 3ms/step - loss: 10.8797 - accuracy: 0.3083\n",
      "Epoch 124/150\n",
      "3/3 [==============================] - 0s 3ms/step - loss: 10.8797 - accuracy: 0.3083\n",
      "Epoch 125/150\n",
      "3/3 [==============================] - 0s 3ms/step - loss: 10.8797 - accuracy: 0.3083\n",
      "Epoch 126/150\n",
      "3/3 [==============================] - 0s 3ms/step - loss: 10.8797 - accuracy: 0.3083\n",
      "Epoch 127/150\n",
      "3/3 [==============================] - 0s 7ms/step - loss: 10.8797 - accuracy: 0.3083\n",
      "Epoch 128/150\n",
      "3/3 [==============================] - 0s 3ms/step - loss: 10.8797 - accuracy: 0.3083\n",
      "Epoch 129/150\n",
      "3/3 [==============================] - 0s 2ms/step - loss: 10.8797 - accuracy: 0.3083\n",
      "Epoch 130/150\n",
      "3/3 [==============================] - 0s 3ms/step - loss: 10.8797 - accuracy: 0.3083\n",
      "Epoch 131/150\n",
      "3/3 [==============================] - 0s 2ms/step - loss: 10.8797 - accuracy: 0.3083\n",
      "Epoch 132/150\n",
      "3/3 [==============================] - 0s 3ms/step - loss: 10.8797 - accuracy: 0.3083\n",
      "Epoch 133/150\n",
      "3/3 [==============================] - 0s 3ms/step - loss: 10.8797 - accuracy: 0.3083\n",
      "Epoch 134/150\n",
      "3/3 [==============================] - 0s 4ms/step - loss: 10.8797 - accuracy: 0.3083\n",
      "Epoch 135/150\n",
      "3/3 [==============================] - 0s 4ms/step - loss: 10.8797 - accuracy: 0.3083\n",
      "Epoch 136/150\n",
      "3/3 [==============================] - 0s 3ms/step - loss: 10.8797 - accuracy: 0.3083\n",
      "Epoch 137/150\n",
      "3/3 [==============================] - 0s 4ms/step - loss: 10.8797 - accuracy: 0.3083\n",
      "Epoch 138/150\n",
      "3/3 [==============================] - 0s 6ms/step - loss: 10.8797 - accuracy: 0.3083\n",
      "Epoch 139/150\n",
      "3/3 [==============================] - 0s 3ms/step - loss: 10.8797 - accuracy: 0.3083\n",
      "Epoch 140/150\n",
      "3/3 [==============================] - 0s 3ms/step - loss: 10.8797 - accuracy: 0.3083\n",
      "Epoch 141/150\n",
      "3/3 [==============================] - 0s 3ms/step - loss: 10.8797 - accuracy: 0.3083\n",
      "Epoch 142/150\n",
      "3/3 [==============================] - 0s 4ms/step - loss: 10.8797 - accuracy: 0.3083\n",
      "Epoch 143/150\n",
      "3/3 [==============================] - 0s 4ms/step - loss: 10.8797 - accuracy: 0.3083\n",
      "Epoch 144/150\n",
      "3/3 [==============================] - 0s 4ms/step - loss: 10.8797 - accuracy: 0.3083\n",
      "Epoch 145/150\n",
      "3/3 [==============================] - 0s 6ms/step - loss: 10.8797 - accuracy: 0.3083\n",
      "Epoch 146/150\n",
      "3/3 [==============================] - 0s 4ms/step - loss: 10.8797 - accuracy: 0.3083\n",
      "Epoch 147/150\n",
      "3/3 [==============================] - 0s 2ms/step - loss: 10.8797 - accuracy: 0.3083\n",
      "Epoch 148/150\n",
      "3/3 [==============================] - 0s 3ms/step - loss: 10.8797 - accuracy: 0.3083\n",
      "Epoch 149/150\n",
      "3/3 [==============================] - 0s 4ms/step - loss: 10.8797 - accuracy: 0.3083\n",
      "Epoch 150/150\n",
      "3/3 [==============================] - 0s 8ms/step - loss: 10.8797 - accuracy: 0.3083\n",
      "1/1 [==============================] - 0s 466ms/step - loss: 10.2081 - accuracy: 0.4333\n",
      "1/1 [==============================] - 0s 52ms/step - loss: 10.2081 - accuracy: 0.4333\n",
      "Test Accuracy:  0.4333333373069763 \n",
      "Test Loss:  10.208127975463867\n"
     ]
    }
   ],
   "source": [
    "network.fit(x_train, train_labels, epochs=150,batch_size=40)\n",
    "test_loss, test_acc = network.evaluate(x_test, test_labels)\n",
    "test_loss, test_acc = network.evaluate(x_test, test_labels)\n",
    "\n",
    "print(\"Test Accuracy: \", test_acc, \"\\nTest Loss: \", test_loss)"
   ]
  },
  {
   "cell_type": "code",
   "execution_count": 40,
   "metadata": {},
   "outputs": [
    {
     "ename": "ValueError",
     "evalue": "x has 4 columns but y has 3 columns",
     "output_type": "error",
     "traceback": [
      "\u001b[1;31m---------------------------------------------------------------------------\u001b[0m",
      "\u001b[1;31mValueError\u001b[0m                                Traceback (most recent call last)",
      "\u001b[1;32mc:\\Users\\Asus\\PycharmProjects\\ProgBio\\pyq_mt.ipynb Cell 15\u001b[0m in \u001b[0;36m<cell line: 4>\u001b[1;34m()\u001b[0m\n\u001b[0;32m      <a href='vscode-notebook-cell:/c%3A/Users/Asus/PycharmProjects/ProgBio/pyq_mt.ipynb#X25sZmlsZQ%3D%3D?line=0'>1</a>\u001b[0m \u001b[39mimport\u001b[39;00m \u001b[39mmatplotlib\u001b[39;00m\u001b[39m.\u001b[39;00m\u001b[39mpyplot\u001b[39;00m \u001b[39mas\u001b[39;00m \u001b[39mplt\u001b[39;00m\n\u001b[0;32m      <a href='vscode-notebook-cell:/c%3A/Users/Asus/PycharmProjects/ProgBio/pyq_mt.ipynb#X25sZmlsZQ%3D%3D?line=2'>3</a>\u001b[0m plt\u001b[39m.\u001b[39mfigure(figsize\u001b[39m=\u001b[39m(\u001b[39m4\u001b[39m,\u001b[39m3\u001b[39m), dpi\u001b[39m=\u001b[39m\u001b[39m150\u001b[39m)\n\u001b[1;32m----> <a href='vscode-notebook-cell:/c%3A/Users/Asus/PycharmProjects/ProgBio/pyq_mt.ipynb#X25sZmlsZQ%3D%3D?line=3'>4</a>\u001b[0m plt\u001b[39m.\u001b[39;49mplot(X,y, \u001b[39m'\u001b[39;49m\u001b[39mb^--\u001b[39;49m\u001b[39m'\u001b[39;49m, label\u001b[39m=\u001b[39;49m\u001b[39m'\u001b[39;49m\u001b[39m2x\u001b[39;49m\u001b[39m'\u001b[39;49m,)\n\u001b[0;32m      <a href='vscode-notebook-cell:/c%3A/Users/Asus/PycharmProjects/ProgBio/pyq_mt.ipynb#X25sZmlsZQ%3D%3D?line=5'>6</a>\u001b[0m plt\u001b[39m.\u001b[39mshow()\n",
      "File \u001b[1;32mc:\\Users\\Asus\\AppData\\Local\\Programs\\Python\\Python310\\lib\\site-packages\\matplotlib\\pyplot.py:2769\u001b[0m, in \u001b[0;36mplot\u001b[1;34m(scalex, scaley, data, *args, **kwargs)\u001b[0m\n\u001b[0;32m   2767\u001b[0m \u001b[39m@_copy_docstring_and_deprecators\u001b[39m(Axes\u001b[39m.\u001b[39mplot)\n\u001b[0;32m   2768\u001b[0m \u001b[39mdef\u001b[39;00m \u001b[39mplot\u001b[39m(\u001b[39m*\u001b[39margs, scalex\u001b[39m=\u001b[39m\u001b[39mTrue\u001b[39;00m, scaley\u001b[39m=\u001b[39m\u001b[39mTrue\u001b[39;00m, data\u001b[39m=\u001b[39m\u001b[39mNone\u001b[39;00m, \u001b[39m*\u001b[39m\u001b[39m*\u001b[39mkwargs):\n\u001b[1;32m-> 2769\u001b[0m     \u001b[39mreturn\u001b[39;00m gca()\u001b[39m.\u001b[39mplot(\n\u001b[0;32m   2770\u001b[0m         \u001b[39m*\u001b[39margs, scalex\u001b[39m=\u001b[39mscalex, scaley\u001b[39m=\u001b[39mscaley,\n\u001b[0;32m   2771\u001b[0m         \u001b[39m*\u001b[39m\u001b[39m*\u001b[39m({\u001b[39m\"\u001b[39m\u001b[39mdata\u001b[39m\u001b[39m\"\u001b[39m: data} \u001b[39mif\u001b[39;00m data \u001b[39mis\u001b[39;00m \u001b[39mnot\u001b[39;00m \u001b[39mNone\u001b[39;00m \u001b[39melse\u001b[39;00m {}), \u001b[39m*\u001b[39m\u001b[39m*\u001b[39mkwargs)\n",
      "File \u001b[1;32mc:\\Users\\Asus\\AppData\\Local\\Programs\\Python\\Python310\\lib\\site-packages\\matplotlib\\axes\\_axes.py:1632\u001b[0m, in \u001b[0;36mAxes.plot\u001b[1;34m(self, scalex, scaley, data, *args, **kwargs)\u001b[0m\n\u001b[0;32m   1390\u001b[0m \u001b[39m\"\"\"\u001b[39;00m\n\u001b[0;32m   1391\u001b[0m \u001b[39mPlot y versus x as lines and/or markers.\u001b[39;00m\n\u001b[0;32m   1392\u001b[0m \n\u001b[1;32m   (...)\u001b[0m\n\u001b[0;32m   1629\u001b[0m \u001b[39m(``'green'``) or hex strings (``'#008000'``).\u001b[39;00m\n\u001b[0;32m   1630\u001b[0m \u001b[39m\"\"\"\u001b[39;00m\n\u001b[0;32m   1631\u001b[0m kwargs \u001b[39m=\u001b[39m cbook\u001b[39m.\u001b[39mnormalize_kwargs(kwargs, mlines\u001b[39m.\u001b[39mLine2D)\n\u001b[1;32m-> 1632\u001b[0m lines \u001b[39m=\u001b[39m [\u001b[39m*\u001b[39m\u001b[39mself\u001b[39m\u001b[39m.\u001b[39m_get_lines(\u001b[39m*\u001b[39margs, data\u001b[39m=\u001b[39mdata, \u001b[39m*\u001b[39m\u001b[39m*\u001b[39mkwargs)]\n\u001b[0;32m   1633\u001b[0m \u001b[39mfor\u001b[39;00m line \u001b[39min\u001b[39;00m lines:\n\u001b[0;32m   1634\u001b[0m     \u001b[39mself\u001b[39m\u001b[39m.\u001b[39madd_line(line)\n",
      "File \u001b[1;32mc:\\Users\\Asus\\AppData\\Local\\Programs\\Python\\Python310\\lib\\site-packages\\matplotlib\\axes\\_base.py:312\u001b[0m, in \u001b[0;36m_process_plot_var_args.__call__\u001b[1;34m(self, data, *args, **kwargs)\u001b[0m\n\u001b[0;32m    310\u001b[0m     this \u001b[39m+\u001b[39m\u001b[39m=\u001b[39m args[\u001b[39m0\u001b[39m],\n\u001b[0;32m    311\u001b[0m     args \u001b[39m=\u001b[39m args[\u001b[39m1\u001b[39m:]\n\u001b[1;32m--> 312\u001b[0m \u001b[39myield from\u001b[39;00m \u001b[39mself\u001b[39;49m\u001b[39m.\u001b[39;49m_plot_args(this, kwargs)\n",
      "File \u001b[1;32mc:\\Users\\Asus\\AppData\\Local\\Programs\\Python\\Python310\\lib\\site-packages\\matplotlib\\axes\\_base.py:516\u001b[0m, in \u001b[0;36m_process_plot_var_args._plot_args\u001b[1;34m(self, tup, kwargs, return_kwargs)\u001b[0m\n\u001b[0;32m    514\u001b[0m ncx, ncy \u001b[39m=\u001b[39m x\u001b[39m.\u001b[39mshape[\u001b[39m1\u001b[39m], y\u001b[39m.\u001b[39mshape[\u001b[39m1\u001b[39m]\n\u001b[0;32m    515\u001b[0m \u001b[39mif\u001b[39;00m ncx \u001b[39m>\u001b[39m \u001b[39m1\u001b[39m \u001b[39mand\u001b[39;00m ncy \u001b[39m>\u001b[39m \u001b[39m1\u001b[39m \u001b[39mand\u001b[39;00m ncx \u001b[39m!=\u001b[39m ncy:\n\u001b[1;32m--> 516\u001b[0m     \u001b[39mraise\u001b[39;00m \u001b[39mValueError\u001b[39;00m(\u001b[39mf\u001b[39m\u001b[39m\"\u001b[39m\u001b[39mx has \u001b[39m\u001b[39m{\u001b[39;00mncx\u001b[39m}\u001b[39;00m\u001b[39m columns but y has \u001b[39m\u001b[39m{\u001b[39;00mncy\u001b[39m}\u001b[39;00m\u001b[39m columns\u001b[39m\u001b[39m\"\u001b[39m)\n\u001b[0;32m    517\u001b[0m \u001b[39mif\u001b[39;00m ncx \u001b[39m==\u001b[39m \u001b[39m0\u001b[39m \u001b[39mor\u001b[39;00m ncy \u001b[39m==\u001b[39m \u001b[39m0\u001b[39m:\n\u001b[0;32m    518\u001b[0m     \u001b[39mreturn\u001b[39;00m []\n",
      "\u001b[1;31mValueError\u001b[0m: x has 4 columns but y has 3 columns"
     ]
    },
    {
     "data": {
      "image/png": "[encoded data removed]",
      "text/plain": [
       "<Figure size 600x450 with 1 Axes>"
      ]
     },
     "metadata": {
      "needs_background": "light"
     },
     "output_type": "display_data"
    }
   ],
   "source": [
    "import matplotlib.pyplot as plt\n",
    "\n",
    "plt.figure(figsize=(4,3), dpi=150)\n",
    "plt.plot(X,y, 'b^--', label='2x',)\n",
    "\n",
    "plt.show()"
   ]
  },
  {
   "attachments": {},
   "cell_type": "markdown",
   "metadata": {},
   "source": [
    "##### question 5"
   ]
  },
  {
   "cell_type": "code",
   "execution_count": 41,
   "metadata": {},
   "outputs": [
    {
     "name": "stdout",
     "output_type": "stream",
     "text": [
      "machine learning:  ['support vector machine', 'logistic regression model', 'random forest', 'k-means clustering']\n",
      "\n",
      "deep learning:  ['artificial neural network', 'convolutional neural networks', 'recurrent neural networks', 'principal components analysis']\n"
     ]
    }
   ],
   "source": [
    "technique = [\"support vector machine\", \"logistic regression model\", \"random forest\",\n",
    "             \"artificial neural network\", \"convolutional neural networks\",\n",
    "             \"recurrent neural networks\", \"k-means clustering\", \"principal components analysis\"]\n",
    "machine_learning = []\n",
    "deep_learning = []\n",
    "\n",
    "for list in technique:\n",
    "    if list == \"support vector machine\" or list == \"logistic regression model\" or list == \"random forest\" or list == \"k-means clustering\":\n",
    "        machine_learning.append(list)\n",
    "    else:\n",
    "        deep_learning.append(list)\n",
    "        \n",
    "print(\"machine learning: \", machine_learning, end='\\n\\n')\n",
    "print(\"deep learning: \", deep_learning, end='\\n')"
   ]
  },
  {
   "attachments": {},
   "cell_type": "markdown",
   "metadata": {},
   "source": [
    "##### question 6"
   ]
  },
  {
   "cell_type": "code",
   "execution_count": 26,
   "metadata": {},
   "outputs": [
    {
     "name": "stdout",
     "output_type": "stream",
     "text": [
      "5\n"
     ]
    }
   ],
   "source": [
    "def approxMatch(str1, str2):\n",
    "    len1 = len(str1)\n",
    "    len2 = len(str2)\n",
    "    \n",
    "    if (len1 == 0):\n",
    "        return len2\n",
    "    if (len2 == 0):\n",
    "        return len1\n",
    "    \n",
    "    match = approxMatch(str1[1:len1], str2[1:len2])\n",
    "    \n",
    "    if (str1[0] != str2[0]):\n",
    "        match = match + 1\n",
    "        \n",
    "    del1 = 1 + approxMatch(str1[1:len1], str2)\n",
    "    del2 = 1 + approxMatch(str1, str2[1:len2])\n",
    "    return min(match, del1, del2)\n",
    "\n",
    "print(approxMatch(\"TCCCAGT\", \"AATCAGATC\"))"
   ]
  }
 ],
 "metadata": {
  "kernelspec": {
   "display_name": "Python 3",
   "language": "python",
   "name": "python3"
  },
  "language_info": {
   "codemirror_mode": {
    "name": "ipython",
    "version": 3
   },
   "file_extension": ".py",
   "mimetype": "text/x-python",
   "name": "python",
   "nbconvert_exporter": "python",
   "pygments_lexer": "ipython3",
   "version": "3.10.5 (tags/v3.10.5:f377153, Jun  6 2022, 16:14:13) [MSC v.1929 64 bit (AMD64)]"
  },
  "orig_nbformat": 4,
  "vscode": {
   "interpreter": {
    "hash": "107d7b120a5b68773a87d4067e673630b35702e55ebab3138143d08b1c4d7cbc"
   }
  }
 },
 "nbformat": 4,
 "nbformat_minor": 2
}
