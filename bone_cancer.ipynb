{
 "cells": [
  {
   "cell_type": "code",
   "execution_count": 1,
   "metadata": {},
   "outputs": [],
   "source": [
    "import pandas as pd\n",
    "import numpy as np"
   ]
  },
  {
   "cell_type": "code",
   "execution_count": 2,
   "metadata": {},
   "outputs": [],
   "source": [
    "df1 = pd.read_excel('BoneCancerRaw.xlsx')\n",
    "df2 = pd.read_excel('BoneCancerConvert.xlsx')"
   ]
  },
  {
   "cell_type": "code",
   "execution_count": 3,
   "metadata": {},
   "outputs": [
    {
     "name": "stdout",
     "output_type": "stream",
     "text": [
      "(1309, 6)\n",
      "(1309, 4)\n"
     ]
    }
   ],
   "source": [
    "print(df1.shape)\n",
    "print(df2.shape)"
   ]
  },
  {
   "cell_type": "code",
   "execution_count": 4,
   "metadata": {},
   "outputs": [
    {
     "data": {
      "text/html": [
       "<div>\n",
       "<style scoped>\n",
       "    .dataframe tbody tr th:only-of-type {\n",
       "        vertical-align: middle;\n",
       "    }\n",
       "\n",
       "    .dataframe tbody tr th {\n",
       "        vertical-align: top;\n",
       "    }\n",
       "\n",
       "    .dataframe thead th {\n",
       "        text-align: right;\n",
       "    }\n",
       "</style>\n",
       "<table border=\"1\" class=\"dataframe\">\n",
       "  <thead>\n",
       "    <tr style=\"text-align: right;\">\n",
       "      <th></th>\n",
       "      <th>Entrez ID</th>\n",
       "      <th>GSM921514</th>\n",
       "      <th>GSM92151</th>\n",
       "      <th>GSM921516</th>\n",
       "      <th>GSM921517</th>\n",
       "    </tr>\n",
       "  </thead>\n",
       "  <tbody>\n",
       "    <tr>\n",
       "      <th>0</th>\n",
       "      <td>780</td>\n",
       "      <td>10.678832</td>\n",
       "      <td>10.291389</td>\n",
       "      <td>9.608725</td>\n",
       "      <td>9.412715</td>\n",
       "    </tr>\n",
       "    <tr>\n",
       "      <th>1</th>\n",
       "      <td>5982</td>\n",
       "      <td>9.499689</td>\n",
       "      <td>8.981216</td>\n",
       "      <td>9.385408</td>\n",
       "      <td>9.868524</td>\n",
       "    </tr>\n",
       "    <tr>\n",
       "      <th>2</th>\n",
       "      <td>3310</td>\n",
       "      <td>5.848989</td>\n",
       "      <td>5.380187</td>\n",
       "      <td>5.566532</td>\n",
       "      <td>5.577159</td>\n",
       "    </tr>\n",
       "    <tr>\n",
       "      <th>3</th>\n",
       "      <td>7849</td>\n",
       "      <td>8.189986</td>\n",
       "      <td>8.431688</td>\n",
       "      <td>8.332415</td>\n",
       "      <td>8.084233</td>\n",
       "    </tr>\n",
       "    <tr>\n",
       "      <th>4</th>\n",
       "      <td>2978</td>\n",
       "      <td>3.519274</td>\n",
       "      <td>3.453561</td>\n",
       "      <td>4.207195</td>\n",
       "      <td>3.386633</td>\n",
       "    </tr>\n",
       "    <tr>\n",
       "      <th>...</th>\n",
       "      <td>...</td>\n",
       "      <td>...</td>\n",
       "      <td>...</td>\n",
       "      <td>...</td>\n",
       "      <td>...</td>\n",
       "    </tr>\n",
       "    <tr>\n",
       "      <th>1304</th>\n",
       "      <td>64866</td>\n",
       "      <td>4.679561</td>\n",
       "      <td>4.855678</td>\n",
       "      <td>6.055085</td>\n",
       "      <td>4.430294</td>\n",
       "    </tr>\n",
       "    <tr>\n",
       "      <th>1305</th>\n",
       "      <td>9706</td>\n",
       "      <td>5.666462</td>\n",
       "      <td>5.683198</td>\n",
       "      <td>6.081623</td>\n",
       "      <td>5.394488</td>\n",
       "    </tr>\n",
       "    <tr>\n",
       "      <th>1306</th>\n",
       "      <td>9498</td>\n",
       "      <td>5.589828</td>\n",
       "      <td>5.233311</td>\n",
       "      <td>7.455269</td>\n",
       "      <td>7.145090</td>\n",
       "    </tr>\n",
       "    <tr>\n",
       "      <th>1307</th>\n",
       "      <td>85464</td>\n",
       "      <td>6.190972</td>\n",
       "      <td>6.977493</td>\n",
       "      <td>5.725543</td>\n",
       "      <td>5.968132</td>\n",
       "    </tr>\n",
       "    <tr>\n",
       "      <th>1308</th>\n",
       "      <td>133874</td>\n",
       "      <td>5.079534</td>\n",
       "      <td>4.924706</td>\n",
       "      <td>5.054912</td>\n",
       "      <td>5.306256</td>\n",
       "    </tr>\n",
       "  </tbody>\n",
       "</table>\n",
       "<p>1309 rows × 5 columns</p>\n",
       "</div>"
      ],
      "text/plain": [
       "      Entrez ID  GSM921514   GSM92151  GSM921516  GSM921517\n",
       "0           780  10.678832  10.291389   9.608725   9.412715\n",
       "1          5982   9.499689   8.981216   9.385408   9.868524\n",
       "2          3310   5.848989   5.380187   5.566532   5.577159\n",
       "3          7849   8.189986   8.431688   8.332415   8.084233\n",
       "4          2978   3.519274   3.453561   4.207195   3.386633\n",
       "...         ...        ...        ...        ...        ...\n",
       "1304      64866   4.679561   4.855678   6.055085   4.430294\n",
       "1305       9706   5.666462   5.683198   6.081623   5.394488\n",
       "1306       9498   5.589828   5.233311   7.455269   7.145090\n",
       "1307      85464   6.190972   6.977493   5.725543   5.968132\n",
       "1308     133874   5.079534   4.924706   5.054912   5.306256\n",
       "\n",
       "[1309 rows x 5 columns]"
      ]
     },
     "execution_count": 4,
     "metadata": {},
     "output_type": "execute_result"
    }
   ],
   "source": [
    "frame = [df2, df1]\n",
    "df = pd.concat(frame, axis=1)\n",
    "df_clean = df.drop(columns=['Probe ID', 'Species', 'Gene Name', 'ID', 'Gene Symbol'])\n",
    "df_clean"
   ]
  },
  {
   "cell_type": "code",
   "execution_count": 17,
   "metadata": {},
   "outputs": [],
   "source": [
    "df_clean.to_excel(\"BoneCancerStandardize.xlsx\", index=False)"
   ]
  },
  {
   "attachments": {},
   "cell_type": "markdown",
   "metadata": {},
   "source": [
    "### Dataset Preprocessing"
   ]
  },
  {
   "cell_type": "code",
   "execution_count": 5,
   "metadata": {},
   "outputs": [
    {
     "data": {
      "text/html": [
       "<div>\n",
       "<style scoped>\n",
       "    .dataframe tbody tr th:only-of-type {\n",
       "        vertical-align: middle;\n",
       "    }\n",
       "\n",
       "    .dataframe tbody tr th {\n",
       "        vertical-align: top;\n",
       "    }\n",
       "\n",
       "    .dataframe thead th {\n",
       "        text-align: right;\n",
       "    }\n",
       "</style>\n",
       "<table border=\"1\" class=\"dataframe\">\n",
       "  <thead>\n",
       "    <tr style=\"text-align: right;\">\n",
       "      <th></th>\n",
       "      <th>Entrez ID</th>\n",
       "      <th>GSM921514</th>\n",
       "      <th>GSM92151</th>\n",
       "      <th>GSM921516</th>\n",
       "      <th>GSM921517</th>\n",
       "    </tr>\n",
       "  </thead>\n",
       "  <tbody>\n",
       "    <tr>\n",
       "      <th>0</th>\n",
       "      <td>780</td>\n",
       "      <td>10.678832</td>\n",
       "      <td>10.291389</td>\n",
       "      <td>9.608725</td>\n",
       "      <td>9.412715</td>\n",
       "    </tr>\n",
       "    <tr>\n",
       "      <th>1</th>\n",
       "      <td>5982</td>\n",
       "      <td>9.499689</td>\n",
       "      <td>8.981216</td>\n",
       "      <td>9.385408</td>\n",
       "      <td>9.868524</td>\n",
       "    </tr>\n",
       "    <tr>\n",
       "      <th>2</th>\n",
       "      <td>3310</td>\n",
       "      <td>5.848989</td>\n",
       "      <td>5.380187</td>\n",
       "      <td>5.566532</td>\n",
       "      <td>5.577159</td>\n",
       "    </tr>\n",
       "    <tr>\n",
       "      <th>3</th>\n",
       "      <td>7849</td>\n",
       "      <td>8.189986</td>\n",
       "      <td>8.431688</td>\n",
       "      <td>8.332415</td>\n",
       "      <td>8.084233</td>\n",
       "    </tr>\n",
       "    <tr>\n",
       "      <th>4</th>\n",
       "      <td>2978</td>\n",
       "      <td>3.519274</td>\n",
       "      <td>3.453561</td>\n",
       "      <td>4.207195</td>\n",
       "      <td>3.386633</td>\n",
       "    </tr>\n",
       "  </tbody>\n",
       "</table>\n",
       "</div>"
      ],
      "text/plain": [
       "   Entrez ID  GSM921514   GSM92151  GSM921516  GSM921517\n",
       "0        780  10.678832  10.291389   9.608725   9.412715\n",
       "1       5982   9.499689   8.981216   9.385408   9.868524\n",
       "2       3310   5.848989   5.380187   5.566532   5.577159\n",
       "3       7849   8.189986   8.431688   8.332415   8.084233\n",
       "4       2978   3.519274   3.453561   4.207195   3.386633"
      ]
     },
     "execution_count": 5,
     "metadata": {},
     "output_type": "execute_result"
    }
   ],
   "source": [
    "data = pd.read_excel(\"BoneCancerStandardize.xlsx\")\n",
    "data.head()"
   ]
  },
  {
   "cell_type": "code",
   "execution_count": 6,
   "metadata": {},
   "outputs": [
    {
     "data": {
      "text/plain": [
       "(1309, 5)"
      ]
     },
     "execution_count": 6,
     "metadata": {},
     "output_type": "execute_result"
    }
   ],
   "source": [
    "data.shape"
   ]
  },
  {
   "cell_type": "code",
   "execution_count": 7,
   "metadata": {},
   "outputs": [
    {
     "data": {
      "text/plain": [
       "Index(['Entrez ID', 'GSM921514', 'GSM92151', 'GSM921516', 'GSM921517'], dtype='object')"
      ]
     },
     "execution_count": 7,
     "metadata": {},
     "output_type": "execute_result"
    }
   ],
   "source": [
    "data.columns"
   ]
  },
  {
   "cell_type": "code",
   "execution_count": 8,
   "metadata": {},
   "outputs": [
    {
     "data": {
      "text/plain": [
       "Entrez ID      int64\n",
       "GSM921514    float64\n",
       "GSM92151     float64\n",
       "GSM921516    float64\n",
       "GSM921517    float64\n",
       "dtype: object"
      ]
     },
     "execution_count": 8,
     "metadata": {},
     "output_type": "execute_result"
    }
   ],
   "source": [
    "data.dtypes"
   ]
  },
  {
   "cell_type": "code",
   "execution_count": 9,
   "metadata": {},
   "outputs": [
    {
     "data": {
      "text/plain": [
       "Entrez ID    float64\n",
       "GSM921514    float64\n",
       "GSM92151     float64\n",
       "GSM921516    float64\n",
       "GSM921517    float64\n",
       "dtype: object"
      ]
     },
     "execution_count": 9,
     "metadata": {},
     "output_type": "execute_result"
    }
   ],
   "source": [
    "data = data.astype({\"Entrez ID\": float})\n",
    "data.dtypes"
   ]
  },
  {
   "cell_type": "code",
   "execution_count": 10,
   "metadata": {},
   "outputs": [
    {
     "data": {
      "text/plain": [
       "Entrez ID    0\n",
       "GSM921514    0\n",
       "GSM92151     0\n",
       "GSM921516    0\n",
       "GSM921517    0\n",
       "dtype: int64"
      ]
     },
     "execution_count": 10,
     "metadata": {},
     "output_type": "execute_result"
    }
   ],
   "source": [
    "data.isnull().sum()"
   ]
  },
  {
   "cell_type": "code",
   "execution_count": 11,
   "metadata": {},
   "outputs": [],
   "source": [
    "from sklearn import preprocessing"
   ]
  },
  {
   "cell_type": "code",
   "execution_count": 12,
   "metadata": {},
   "outputs": [
    {
     "data": {
      "text/plain": [
       "array([[0.0514499 , 0.04576887, 0.02818003, ..., 0.02693141, 0.02982769,\n",
       "        0.02447285]])"
      ]
     },
     "execution_count": 12,
     "metadata": {},
     "output_type": "execute_result"
    }
   ],
   "source": [
    "x_array = np.array(data[\"GSM921514\"])\n",
    "normalized = preprocessing.normalize([x_array])\n",
    "normalized"
   ]
  },
  {
   "cell_type": "code",
   "execution_count": 13,
   "metadata": {},
   "outputs": [
    {
     "data": {
      "text/plain": [
       "array([[0.04977201, 0.04343565, 0.02602008, ..., 0.02530974, 0.03374509,\n",
       "        0.02381724]])"
      ]
     },
     "execution_count": 13,
     "metadata": {},
     "output_type": "execute_result"
    }
   ],
   "source": [
    "x_array = np.array(data[\"GSM92151\"])\n",
    "normalized = preprocessing.normalize([x_array])\n",
    "normalized"
   ]
  },
  {
   "cell_type": "code",
   "execution_count": 14,
   "metadata": {},
   "outputs": [
    {
     "data": {
      "text/plain": [
       "array([[0.04600891, 0.04493961, 0.02665391, ..., 0.03569763, 0.02741529,\n",
       "        0.02420414]])"
      ]
     },
     "execution_count": 14,
     "metadata": {},
     "output_type": "execute_result"
    }
   ],
   "source": [
    "x_array = np.array(data[\"GSM921516\"])\n",
    "normalized = preprocessing.normalize([x_array])\n",
    "normalized"
   ]
  },
  {
   "cell_type": "code",
   "execution_count": 15,
   "metadata": {},
   "outputs": [
    {
     "data": {
      "text/plain": [
       "array([[0.04511043, 0.04729489, 0.02672853, ..., 0.03424284, 0.02860227,\n",
       "        0.02543023]])"
      ]
     },
     "execution_count": 15,
     "metadata": {},
     "output_type": "execute_result"
    }
   ],
   "source": [
    "x_array = np.array(data[\"GSM921517\"])\n",
    "normalized = preprocessing.normalize([x_array])\n",
    "normalized"
   ]
  },
  {
   "attachments": {},
   "cell_type": "markdown",
   "metadata": {},
   "source": [
    "#### Exploratory Data Analysis"
   ]
  }
 ],
 "metadata": {
  "kernelspec": {
   "display_name": "Python 3",
   "language": "python",
   "name": "python3"
  },
  "language_info": {
   "codemirror_mode": {
    "name": "ipython",
    "version": 3
   },
   "file_extension": ".py",
   "mimetype": "text/x-python",
   "name": "python",
   "nbconvert_exporter": "python",
   "pygments_lexer": "ipython3",
   "version": "3.10.5"
  },
  "orig_nbformat": 4,
  "vscode": {
   "interpreter": {
    "hash": "107d7b120a5b68773a87d4067e673630b35702e55ebab3138143d08b1c4d7cbc"
   }
  }
 },
 "nbformat": 4,
 "nbformat_minor": 2
}
